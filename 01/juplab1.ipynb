{
 "cells": [
  {
   "cell_type": "code",
   "execution_count": 43,
   "metadata": {},
   "outputs": [
    {
     "name": "stdout",
     "output_type": "stream",
     "text": [
      "     sky air temp humidity    wind water forecast enjoy sport\n",
      "0  sunny     warm   normal  strong  warm     same         yes\n",
      "1  sunny     warm     high  strong  warm     same         yes\n",
      "2  rainy     cold     high  strong  warm   change          no\n",
      "3  sunny     warm     high  strong  cool   change         yes\n",
      "['yes' 'yes' 'no' 'yes']\n"
     ]
    }
   ],
   "source": [
    "import pandas as pd\n",
    "import numpy as np\n",
    "data = pd.read_csv('lab1.csv')\n",
    "concepts = np.array(data)[:,:-1]\n",
    "target = np.array(data)[:,-1]\n",
    "print(data)\n",
    "print(target)"
   ]
  },
  {
   "cell_type": "code",
   "execution_count": 44,
   "metadata": {},
   "outputs": [],
   "source": [
    "def train(con,tar):\n",
    "    specific_h = con[0]\n",
    "    count=0       \n",
    "            \n",
    "    for i,val in enumerate(con):\n",
    "        print(i,val)\n",
    "        if tar[i]=='yes':\n",
    "            for x in range(len(specific_h)):\n",
    "                if val[x] == specific_h[x]:\n",
    "                    pass\n",
    "                else:\n",
    "                    specific_h[x] = '?'\n",
    "            count+=1\n",
    "            print(f\"Hypothesis after sample number:{count} processed: {specific_h}\")\n",
    "        else:\n",
    "            pass\n",
    "            count+=1\n",
    "            print(f'Negative sample number: {count} same hypothesis: {specific_h}')\n",
    "    return specific_h"
   ]
  },
  {
   "cell_type": "code",
   "execution_count": 45,
   "metadata": {},
   "outputs": [
    {
     "name": "stdout",
     "output_type": "stream",
     "text": [
      "0 ['sunny' 'warm' 'normal' 'strong' 'warm' 'same']\n",
      "Hypothesis after sample number:1 processed: ['sunny' 'warm' 'normal' 'strong' 'warm' 'same']\n",
      "1 ['sunny' 'warm' 'high' 'strong' 'warm' 'same']\n",
      "Hypothesis after sample number:2 processed: ['sunny' 'warm' '?' 'strong' 'warm' 'same']\n",
      "2 ['rainy' 'cold' 'high' 'strong' 'warm' 'change']\n",
      "Negative sample number: 3 same hypothesis: ['sunny' 'warm' '?' 'strong' 'warm' 'same']\n",
      "3 ['sunny' 'warm' 'high' 'strong' 'cool' 'change']\n",
      "Hypothesis after sample number:4 processed: ['sunny' 'warm' '?' 'strong' '?' '?']\n",
      "Final Hypothesis: ['sunny' 'warm' '?' 'strong' '?' '?']\n"
     ]
    }
   ],
   "source": [
    "print(\"Final Hypothesis:\", train(concepts,target))"
   ]
  },
  {
   "cell_type": "code",
   "execution_count": null,
   "metadata": {},
   "outputs": [],
   "source": []
  },
  {
   "cell_type": "code",
   "execution_count": null,
   "metadata": {},
   "outputs": [],
   "source": []
  },
  {
   "cell_type": "code",
   "execution_count": null,
   "metadata": {},
   "outputs": [],
   "source": []
  }
 ],
 "metadata": {
  "kernelspec": {
   "display_name": "Python 3",
   "language": "python",
   "name": "python3"
  },
  "language_info": {
   "codemirror_mode": {
    "name": "ipython",
    "version": 3
   },
   "file_extension": ".py",
   "mimetype": "text/x-python",
   "name": "python",
   "nbconvert_exporter": "python",
   "pygments_lexer": "ipython3",
   "version": "3.7.3"
  }
 },
 "nbformat": 4,
 "nbformat_minor": 2
}
