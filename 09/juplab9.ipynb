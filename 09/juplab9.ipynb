{
 "cells": [
  {
   "cell_type": "code",
   "execution_count": 17,
   "metadata": {},
   "outputs": [
    {
     "name": "stdout",
     "output_type": "stream",
     "text": [
      "[[5.1 3.5 1.4 0.2]\n",
      " [4.9 3.  1.4 0.2]\n",
      " [4.7 3.2 1.3 0.2]\n",
      " [4.6 3.1 1.5 0.2]\n",
      " [5.  3.6 1.4 0.2]]\n",
      "[0 0 0 0 0]\n",
      "[2 1 0 2 0 2 0 1 1 1 2 1 1 1 1 0 1 1 0 0 2 1 0 0 2 0 0 1 1 0 2 1 0 2 2 1 0\n",
      " 2]\n",
      "Training Accuracy:0.9732142857142857\n",
      "Testing Accuracy:0.9736842105263158\n",
      "Training Confusion Matrix is : \n",
      " [[37  0  0]\n",
      " [ 0 32  2]\n",
      " [ 0  1 40]]\n",
      "Testing Confusion Matrix is : \n",
      " [[13  0  0]\n",
      " [ 0 15  1]\n",
      " [ 0  0  9]]\n",
      "Prediction is virginica, Actual is virginica\n",
      "Prediction is versicolor, Actual is versicolor\n",
      "Prediction is setosa, Actual is setosa\n",
      "Prediction is virginica, Actual is virginica\n",
      "Prediction is setosa, Actual is setosa\n",
      "Prediction is virginica, Actual is virginica\n",
      "Prediction is setosa, Actual is setosa\n",
      "Prediction is versicolor, Actual is versicolor\n",
      "Prediction is versicolor, Actual is versicolor\n",
      "Prediction is versicolor, Actual is versicolor\n",
      "Prediction is virginica, Actual is virginica\n",
      "Prediction is versicolor, Actual is versicolor\n",
      "Prediction is versicolor, Actual is versicolor\n",
      "Prediction is versicolor, Actual is versicolor\n",
      "Prediction is versicolor, Actual is versicolor\n",
      "Prediction is setosa, Actual is setosa\n",
      "Prediction is versicolor, Actual is versicolor\n",
      "Prediction is versicolor, Actual is versicolor\n",
      "Prediction is setosa, Actual is setosa\n",
      "Prediction is setosa, Actual is setosa\n",
      "Prediction is virginica, Actual is virginica\n",
      "Prediction is versicolor, Actual is versicolor\n",
      "Prediction is setosa, Actual is setosa\n",
      "Prediction is setosa, Actual is setosa\n",
      "Prediction is virginica, Actual is virginica\n",
      "Prediction is setosa, Actual is setosa\n",
      "Prediction is setosa, Actual is setosa\n",
      "Prediction is versicolor, Actual is versicolor\n",
      "Prediction is versicolor, Actual is versicolor\n",
      "Prediction is setosa, Actual is setosa\n",
      "Prediction is virginica, Actual is virginica\n",
      "Prediction is versicolor, Actual is versicolor\n",
      "Prediction is setosa, Actual is setosa\n",
      "Prediction is virginica, Actual is virginica\n",
      "Prediction is virginica, Actual is virginica\n",
      "Prediction is versicolor, Actual is versicolor\n",
      "Prediction is setosa, Actual is setosa\n",
      "Prediction is virginica, Actual is versicolor\n"
     ]
    }
   ],
   "source": [
    "from sklearn.datasets import load_iris \n",
    "from sklearn.neighbors import KNeighborsClassifier \n",
    "from sklearn.metrics import confusion_matrix\n",
    "import numpy as np \n",
    "from sklearn.model_selection import train_test_split \n",
    "iris_dataset=load_iris() \n",
    "X_train, X_test, y_train, y_test = train_test_split(iris_dataset[\"data\"], iris_dataset[\"target\"], random_state=0) \n",
    "kn = KNeighborsClassifier() \n",
    "kn.fit(X_train, y_train)\n",
    "prediction1 = kn.predict(X_train)\n",
    "prediction2 = kn.predict(X_test)\n",
    "print(iris_dataset[\"data\"][:5])\n",
    "print(iris_dataset[\"target\"][:5])\n",
    "print(prediction)\n",
    "print(\"Training Accuracy:\"+ str(kn.score(X_train, y_train)))\n",
    "print(\"Testing Accuracy:\"+ str(kn.score(X_test, y_test)))\n",
    "print(\"Training Confusion Matrix is : \\n\", confusion_matrix(y_train, prediction1))\n",
    "print(\"Testing Confusion Matrix is : \\n\", confusion_matrix(y_test, prediction2))\n",
    "target_names = iris_dataset.target_names\n",
    "for pred,actual in zip(prediction,y_test):\n",
    "    print(\"Prediction is \"+str(target_names[pred])+\", Actual is \"+str(target_names[actual]))"
   ]
  },
  {
   "cell_type": "code",
   "execution_count": null,
   "metadata": {},
   "outputs": [],
   "source": []
  }
 ],
 "metadata": {
  "kernelspec": {
   "display_name": "Python 3",
   "language": "python",
   "name": "python3"
  },
  "language_info": {
   "codemirror_mode": {
    "name": "ipython",
    "version": 3
   },
   "file_extension": ".py",
   "mimetype": "text/x-python",
   "name": "python",
   "nbconvert_exporter": "python",
   "pygments_lexer": "ipython3",
   "version": "3.7.3"
  }
 },
 "nbformat": 4,
 "nbformat_minor": 2
}
