{
 "cells": [
  {
   "cell_type": "code",
   "execution_count": 2,
   "metadata": {},
   "outputs": [
    {
     "name": "stdout",
     "output_type": "stream",
     "text": [
      "ACCURACY:0.9736842105263158\n",
      "Prediction is virginica, Actual is virginica\n",
      "Prediction is versicolor, Actual is versicolor\n",
      "Prediction is setosa, Actual is setosa\n",
      "Prediction is virginica, Actual is virginica\n",
      "Prediction is setosa, Actual is setosa\n",
      "Prediction is virginica, Actual is virginica\n",
      "Prediction is setosa, Actual is setosa\n",
      "Prediction is versicolor, Actual is versicolor\n",
      "Prediction is versicolor, Actual is versicolor\n",
      "Prediction is versicolor, Actual is versicolor\n",
      "Prediction is virginica, Actual is virginica\n",
      "Prediction is versicolor, Actual is versicolor\n",
      "Prediction is versicolor, Actual is versicolor\n",
      "Prediction is versicolor, Actual is versicolor\n",
      "Prediction is versicolor, Actual is versicolor\n",
      "Prediction is setosa, Actual is setosa\n",
      "Prediction is versicolor, Actual is versicolor\n",
      "Prediction is versicolor, Actual is versicolor\n",
      "Prediction is setosa, Actual is setosa\n",
      "Prediction is setosa, Actual is setosa\n",
      "Prediction is virginica, Actual is virginica\n",
      "Prediction is versicolor, Actual is versicolor\n",
      "Prediction is setosa, Actual is setosa\n",
      "Prediction is setosa, Actual is setosa\n",
      "Prediction is virginica, Actual is virginica\n",
      "Prediction is setosa, Actual is setosa\n",
      "Prediction is setosa, Actual is setosa\n",
      "Prediction is versicolor, Actual is versicolor\n",
      "Prediction is versicolor, Actual is versicolor\n",
      "Prediction is setosa, Actual is setosa\n",
      "Prediction is virginica, Actual is virginica\n",
      "Prediction is versicolor, Actual is versicolor\n",
      "Prediction is setosa, Actual is setosa\n",
      "Prediction is virginica, Actual is virginica\n",
      "Prediction is virginica, Actual is virginica\n",
      "Prediction is versicolor, Actual is versicolor\n",
      "Prediction is setosa, Actual is setosa\n",
      "Prediction is virginica, Actual is versicolor\n"
     ]
    }
   ],
   "source": [
    "from sklearn.datasets import load_iris \n",
    "from sklearn.neighbors import KNeighborsClassifier \n",
    "import numpy as np \n",
    "from sklearn.model_selection import train_test_split \n",
    "iris_dataset=load_iris() \n",
    "X_train, X_test, y_train, y_test = train_test_split(iris_dataset[\"data\"], iris_dataset[\"target\"], random_state=0) \n",
    "kn = KNeighborsClassifier() \n",
    "kn.fit(X_train, y_train) \n",
    "prediction = kn.predict(X_test)\n",
    "print(\"ACCURACY:\"+ str(kn.score(X_test, y_test)))\n",
    "target_names = iris_dataset.target_names\n",
    "for pred,actual in zip(prediction,y_test):\n",
    "    print(\"Prediction is \"+str(target_names[pred])+\", Actual is \"+str(target_names[actual]))"
   ]
  },
  {
   "cell_type": "code",
   "execution_count": null,
   "metadata": {},
   "outputs": [],
   "source": []
  }
 ],
 "metadata": {
  "kernelspec": {
   "display_name": "Python 3",
   "language": "python",
   "name": "python3"
  },
  "language_info": {
   "codemirror_mode": {
    "name": "ipython",
    "version": 3
   },
   "file_extension": ".py",
   "mimetype": "text/x-python",
   "name": "python",
   "nbconvert_exporter": "python",
   "pygments_lexer": "ipython3",
   "version": "3.7.3"
  }
 },
 "nbformat": 4,
 "nbformat_minor": 2
}
